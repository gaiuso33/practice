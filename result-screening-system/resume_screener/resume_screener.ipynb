{
 "cells": [
  {
   "cell_type": "markdown",
   "id": "e11bdaba-1bbf-4ed6-9d02-954fe54a4446",
   "metadata": {},
   "source": [
    "# Introduction: AI-Powered Resume Screening System\n",
    "This notebook demonstrates how to process resumes using NLP and rank candidates based on job descriptions.\n"
   ]
  },
  {
   "cell_type": "markdown",
   "id": "c019339e-91f5-4bf3-afeb-b9a463094798",
   "metadata": {},
   "source": [
    "# Install & Import Dependencies"
   ]
  },
  {
   "cell_type": "code",
   "execution_count": 17,
   "id": "fd5dd860-74d7-4fbb-a865-345e25c2796f",
   "metadata": {},
   "outputs": [
    {
     "name": "stdout",
     "output_type": "stream",
     "text": [
      "Requirement already satisfied: pandas in c:\\users\\ayogaius\\appdata\\local\\programs\\python\\python310\\lib\\site-packages (2.2.3)\n",
      "Requirement already satisfied: scikit-learn in c:\\users\\ayogaius\\appdata\\local\\programs\\python\\python310\\lib\\site-packages (1.6.1)\n",
      "Requirement already satisfied: joblib in c:\\users\\ayogaius\\appdata\\local\\programs\\python\\python310\\lib\\site-packages (1.4.2)\n",
      "Requirement already satisfied: numpy in c:\\users\\ayogaius\\appdata\\local\\programs\\python\\python310\\lib\\site-packages (2.1.3)\n",
      "Requirement already satisfied: nltk in c:\\users\\ayogaius\\appdata\\local\\programs\\python\\python310\\lib\\site-packages (3.9.1)\n",
      "Requirement already satisfied: python-dateutil>=2.8.2 in c:\\users\\ayogaius\\appdata\\local\\programs\\python\\python310\\lib\\site-packages (from pandas) (2.9.0.post0)\n",
      "Requirement already satisfied: pytz>=2020.1 in c:\\users\\ayogaius\\appdata\\local\\programs\\python\\python310\\lib\\site-packages (from pandas) (2025.2)\n",
      "Requirement already satisfied: tzdata>=2022.7 in c:\\users\\ayogaius\\appdata\\local\\programs\\python\\python310\\lib\\site-packages (from pandas) (2025.2)\n",
      "Requirement already satisfied: scipy>=1.6.0 in c:\\users\\ayogaius\\appdata\\local\\programs\\python\\python310\\lib\\site-packages (from scikit-learn) (1.15.2)\n",
      "Requirement already satisfied: threadpoolctl>=3.1.0 in c:\\users\\ayogaius\\appdata\\local\\programs\\python\\python310\\lib\\site-packages (from scikit-learn) (3.6.0)\n",
      "Requirement already satisfied: click in c:\\users\\ayogaius\\appdata\\local\\programs\\python\\python310\\lib\\site-packages (from nltk) (8.1.8)\n",
      "Requirement already satisfied: regex>=2021.8.3 in c:\\users\\ayogaius\\appdata\\local\\programs\\python\\python310\\lib\\site-packages (from nltk) (2024.11.6)\n",
      "Requirement already satisfied: tqdm in c:\\users\\ayogaius\\appdata\\local\\programs\\python\\python310\\lib\\site-packages (from nltk) (4.67.1)\n",
      "Requirement already satisfied: six>=1.5 in c:\\users\\ayogaius\\appdata\\local\\programs\\python\\python310\\lib\\site-packages (from python-dateutil>=2.8.2->pandas) (1.17.0)\n",
      "Requirement already satisfied: colorama in c:\\users\\ayogaius\\appdata\\local\\programs\\python\\python310\\lib\\site-packages (from click->nltk) (0.4.6)\n"
     ]
    }
   ],
   "source": [
    "!pip install pandas scikit-learn joblib numpy nltk\n"
   ]
  },
  {
   "cell_type": "code",
   "execution_count": 18,
   "id": "7681c33e-f73e-4cfb-b0f5-7b252013a687",
   "metadata": {},
   "outputs": [],
   "source": [
    "import os\n",
    "import time\n",
    "import nltk\n",
    "import re\n",
    "import pandas as pd\n",
    "import string\n",
    "import numpy as np\n",
    "import matplotlib.pyplot as plt\n",
    "\n",
    "from nltk.corpus import stopwords\n",
    "from nltk.tokenize import word_tokenize\n",
    "from nltk.stem import WordNetLemmatizer\n",
    "import joblib\n",
    "from sklearn.svm import SVC\n",
    "from sklearn.ensemble import RandomForestClassifier\n",
    "from sklearn.feature_extraction.text import TfidfVectorizer\n",
    "from sklearn.model_selection import train_test_split\n",
    "from sklearn.linear_model import LogisticRegression\n",
    "from sklearn.metrics import accuracy_score, classification_report, precision_score\n",
    "from sklearn.preprocessing import LabelEncoder\n",
    "from sklearn.metrics.pairwise import cosine_similarity"
   ]
  },
  {
   "cell_type": "markdown",
   "id": "3154670b-116d-4f48-9d96-dab623992a75",
   "metadata": {},
   "source": [
    "# Download NLTK dependencies and define paths"
   ]
  },
  {
   "cell_type": "code",
   "execution_count": 19,
   "id": "5cfef8bd-bebe-49c7-916b-3d766d0f2b96",
   "metadata": {},
   "outputs": [
    {
     "name": "stderr",
     "output_type": "stream",
     "text": [
      "[nltk_data] Downloading package punkt to\n",
      "[nltk_data]     C:\\Users\\Ayogaius\\AppData\\Roaming\\nltk_data...\n",
      "[nltk_data]   Package punkt is already up-to-date!\n",
      "[nltk_data] Downloading package stopwords to\n",
      "[nltk_data]     C:\\Users\\Ayogaius\\AppData\\Roaming\\nltk_data...\n",
      "[nltk_data]   Package stopwords is already up-to-date!\n",
      "[nltk_data] Downloading package wordnet to\n",
      "[nltk_data]     C:\\Users\\Ayogaius\\AppData\\Roaming\\nltk_data...\n",
      "[nltk_data]   Package wordnet is already up-to-date!\n"
     ]
    }
   ],
   "source": [
    "nltk.download('punkt')\n",
    "nltk.download('stopwords')\n",
    "nltk.download('wordnet')\n",
    "lemmatizer = WordNetLemmatizer()\n",
    "stop_words = set(stopwords.words('english'))\n",
    "BASE_DIR = os.getcwd()  # Get the current working directory\n",
    "DATA_PATH = os.path.join(BASE_DIR, \"resume_dataset.csv\")\n",
    "OUTPUT_PATH = os.path.join(BASE_DIR, \"processed_resume_dataset.csv\")"
   ]
  },
  {
   "cell_type": "markdown",
   "id": "230ed489-0a63-4559-bd84-4b2bc3fb219f",
   "metadata": {},
   "source": [
    "# Function definition for text preprocessing"
   ]
  },
  {
   "cell_type": "code",
   "execution_count": 20,
   "id": "e98a3848-25dd-4ebc-9e68-05d531582d83",
   "metadata": {},
   "outputs": [],
   "source": [
    "start_time = time.time()\n",
    "# Function to normalize text\n",
    "def clean_text(text):\n",
    "    text = text.lower()\n",
    "    text = re.sub(r'\\d+', '', text)  # Remove numbers\n",
    "    text = text.translate(str.maketrans('', '', string.punctuation))  # Remove punctuation\n",
    "    text = ' '.join([word for word in text.split() if word not in nltk.corpus.stopwords.words('english')])\n",
    "    return text\n",
    "# Load dataset\n",
    "df = pd.read_csv(DATA_PATH, encoding=\"utf-8\")\n",
    "# Apply function to dataset\n",
    "df[\"Cleaned_Resume\"] = df[\"Resume\"].apply(clean_text)\n",
    "#save to path\n",
    "df.to_csv(OUTPUT_PATH, index=False, encoding=\"utf-8\")"
   ]
  },
  {
   "cell_type": "markdown",
   "id": "3267c5a3-c97a-490b-a62d-d6003aaa998f",
   "metadata": {},
   "source": [
    "# Load preprocessed dataset"
   ]
  },
  {
   "cell_type": "code",
   "execution_count": 21,
   "id": "36e1b591-432f-48f3-a6eb-f0b65ec8447d",
   "metadata": {},
   "outputs": [],
   "source": [
    "#load model path\n",
    "MODEL_PATH = os.path.join(BASE_DIR, \"models/\")\n",
    "#load Cleaned dataset\n",
    "df = pd.read_csv(OUTPUT_PATH, encoding=\"utf-8\")\n",
    "#remove duplicates\n",
    "df = df.drop_duplicates(subset=\"Resume\", keep=\"first\").reset_index(drop=True)"
   ]
  },
  {
   "cell_type": "markdown",
   "id": "5b886c38-261f-4334-8891-304c6160f06d",
   "metadata": {},
   "source": [
    "## Convert Text to Numerical Features"
   ]
  },
  {
   "cell_type": "code",
   "execution_count": 22,
   "id": "c2c8abf3-ea66-4b56-9859-5eace482708a",
   "metadata": {},
   "outputs": [],
   "source": [
    "#initialise vectorizer \n",
    "vectorizer = TfidfVectorizer(max_features=5000) \n",
    "X = vectorizer.fit_transform(df[\"Cleaned_Resume\"]).toarray()"
   ]
  },
  {
   "cell_type": "markdown",
   "id": "c3d64dfa-e009-4353-a523-8a757ceedac0",
   "metadata": {},
   "source": [
    "## Encode Categories (Convert Labels to Numbers)"
   ]
  },
  {
   "cell_type": "code",
   "execution_count": 23,
   "id": "faf15385-bc22-4364-98a8-f238c6c29597",
   "metadata": {},
   "outputs": [],
   "source": [
    "#encode category\n",
    "encoder = LabelEncoder()\n",
    "y = encoder.fit_transform(df[\"Category\"])"
   ]
  },
  {
   "cell_type": "markdown",
   "id": "31b98bbd-49ba-42bd-8cf1-f03ae0d1a409",
   "metadata": {},
   "source": [
    "## Train test(To evaluate model performance on the data)"
   ]
  },
  {
   "cell_type": "code",
   "execution_count": 24,
   "id": "66eaa621-88ca-49d6-abae-e3913dc096cf",
   "metadata": {},
   "outputs": [],
   "source": [
    "X_train, X_test, y_train, y_test = train_test_split(X, y, test_size=0.2, random_state=42, stratify=y)"
   ]
  },
  {
   "cell_type": "markdown",
   "id": "d7dead7b-314b-419b-a16b-4e214d9edae8",
   "metadata": {},
   "source": [
    "## Model training and Evaluation"
   ]
  },
  {
   "cell_type": "code",
   "execution_count": 25,
   "id": "e080d24a-5f2f-4598-88c6-e9391c1cd0fa",
   "metadata": {},
   "outputs": [
    {
     "name": "stdout",
     "output_type": "stream",
     "text": [
      "\n",
      "Training Logistic Regression...\n",
      "✅ Saved Logistic Regression model as logistic_regression.pkl\n",
      "\n",
      "Training SVM...\n",
      "✅ Saved SVM model as svm.pkl\n",
      "\n",
      "Training Random Forest...\n",
      "✅ Saved Random Forest model as random_forest.pkl\n",
      "\n",
      "🔍 Model Performance Comparison:\n",
      "Logistic Regression: Accuracy = 0.5588, Precision = 0.8358\n",
      "SVM: Accuracy = 0.7353, Precision = 0.9142\n",
      "Random Forest: Accuracy = 0.7647, Precision = 0.8799\n",
      "\n",
      "💾 Saved Models: ['logistic_regression.pkl', 'svm.pkl', 'random_forest.pkl']\n"
     ]
    }
   ],
   "source": [
    "#Define models\n",
    "models = {\n",
    "    \"Logistic Regression\": LogisticRegression(),\n",
    "    \"SVM\": SVC(kernel='linear'),\n",
    "    \"Random Forest\": RandomForestClassifier(n_estimators=100, random_state=42)}\n",
    "results = {}\n",
    "saved_files = []\n",
    "# Train & Evaluate Models\n",
    "for model_name, model in models.items():\n",
    "    print(f\"\\nTraining {model_name}...\")\n",
    "    model.fit(X_train, y_train)  # Train\n",
    "    y_pred = model.predict(X_test)  # Predict\n",
    "    \n",
    "    # Calculate accuracy and precision\n",
    "    accuracy = accuracy_score(y_test, y_pred)\n",
    "    precision = precision_score(y_test, y_pred, average='weighted', zero_division=1)\n",
    "    # Save model results\n",
    "    results[model_name] = {\"Accuracy\": accuracy, \"Precision\": precision}\n",
    "    # Save Model\n",
    "    filename = f\"{model_name.replace(' ', '_').lower()}.pkl\"\n",
    "    joblib.dump(model, filename)\n",
    "    saved_files.append(filename)\n",
    "    print(f\"✅ Saved {model_name} model as {filename}\")\n",
    "# Print Model Performance Comparison\n",
    "print(\"\\n🔍 Model Performance Comparison:\")\n",
    "for model, scores in results.items():\n",
    "    print(f\"{model}: Accuracy = {scores['Accuracy']:.4f}, Precision = {scores['Precision']:.4f}\")\n",
    "print(\"\\n💾 Saved Models:\", saved_files)"
   ]
  },
  {
   "cell_type": "markdown",
   "id": "7ac82680-039d-4402-af43-d2768f7dc2c4",
   "metadata": {},
   "source": [
    "## Visualization for accuracy and precision"
   ]
  },
  {
   "cell_type": "code",
   "execution_count": 26,
   "id": "f5dc35ae-c243-4da8-bb94-7be1dad387ba",
   "metadata": {},
   "outputs": [
    {
     "data": {
      "image/png": "[encoded data removed]",
      "text/plain": [
       "<Figure size 800x500 with 1 Axes>"
      ]
     },
     "metadata": {},
     "output_type": "display_data"
    }
   ],
   "source": [
    "models_list = list(results.keys())\n",
    "accuracy_values = [results[m][\"Accuracy\"] for m in models_list]\n",
    "precision_values = [results[m][\"Precision\"] for m in models_list]\n",
    "\n",
    "# Label locations\n",
    "x = np.arange(len(models_list))  \n",
    "# Bar width\n",
    "width = 0.2  \n",
    "\n",
    "fig, ax = plt.subplots(figsize=(8, 5))\n",
    "rects1 = ax.bar(x - width/2, accuracy_values, width, label='Accuracy', color='blue')\n",
    "rects2 = ax.bar(x + width/2, precision_values, width, label='Precision', color='green')\n",
    "\n",
    "ax.set_xlabel(\"Models\")\n",
    "ax.set_ylabel(\"Scores\")\n",
    "ax.set_title(\"Model Accuracy & Precision Comparison\")\n",
    "ax.set_xticks(x)\n",
    "ax.set_xticklabels(models_list)\n",
    "ax.legend()\n",
    "# Score range 0 to 1\n",
    "plt.ylim(0, 1)  \n",
    "plt.grid(axis=\"y\", linestyle=\"--\", alpha=0.7)\n",
    "#Output plot\n",
    "plt.show()\n"
   ]
  },
  {
   "cell_type": "markdown",
   "id": "93aae49a-5adc-4b1c-b6c4-f0e90ce158f0",
   "metadata": {},
   "source": [
    "# model & vectorizer"
   ]
  },
  {
   "cell_type": "code",
   "execution_count": 27,
   "id": "0b1a2fad-fac0-4ea2-a6b2-2f1dbd8ba26d",
   "metadata": {},
   "outputs": [],
   "source": [
    "VECTOR_PATH = os.path.join(BASE_DIR, \"../models/tfidf_vectorizer.pkl\")\n",
    "CLASSIFIER_PATH = os.path.join(BASE_DIR, \"random_forest.pkl\")\n",
    "vectorizer = joblib.load(VECTOR_PATH)\n",
    "model = joblib.load(CLASSIFIER_PATH)\n"
   ]
  },
  {
   "cell_type": "markdown",
   "id": "a47310a2-2b3b-4b1a-97d4-e2ada3394020",
   "metadata": {},
   "source": [
    "# Job Description Input"
   ]
  },
  {
   "cell_type": "code",
   "execution_count": 28,
   "id": "5dfec733-c011-47fa-a7a9-035418357a9f",
   "metadata": {},
   "outputs": [],
   "source": [
    "job_description = \"\"\"data science\"\"\"\n",
    "job_vector = vectorizer.transform([clean_text(job_description)])"
   ]
  },
  {
   "cell_type": "markdown",
   "id": "efe8f99d-bf44-4db1-8c60-7711b5c94be7",
   "metadata": {},
   "source": [
    "# Compute similarity scores"
   ]
  },
  {
   "cell_type": "code",
   "execution_count": 29,
   "id": "3e98b296-3fa9-418d-8d6e-18ab83591c59",
   "metadata": {},
   "outputs": [],
   "source": [
    "similarity_scores = cosine_similarity(job_vector, X)\n",
    "# Add scores to dataset\n",
    "df[\"Similarity_Score\"] = similarity_scores[0]"
   ]
  },
  {
   "cell_type": "markdown",
   "id": "58d8d213-7dfe-47c3-a2d7-1fb01825a1b8",
   "metadata": {},
   "source": [
    "# Sort candidates in an ascending order"
   ]
  },
  {
   "cell_type": "code",
   "execution_count": 30,
   "id": "83b104d4-c84d-4e39-8ee2-25d02dfe7034",
   "metadata": {},
   "outputs": [],
   "source": [
    "ranked_resumes = df.sort_values(by=\"Similarity_Score\", ascending=False)\n",
    "ranked_resumes = ranked_resumes.sort_values(by=\"Similarity_Score\", ascending=False)\n",
    "ranked_resumes[\"Resume\"] = ranked_resumes[\"Resume\"].str.replace(r\"\\r\\n\", \" \", regex=True)"
   ]
  },
  {
   "cell_type": "markdown",
   "id": "7b934115-d9a1-44a8-b156-53e5d082f6d3",
   "metadata": {},
   "source": [
    "# List top matches"
   ]
  },
  {
   "cell_type": "code",
   "execution_count": 31,
   "id": "79e05e56-d6f2-4698-9333-c0d7386e0ddf",
   "metadata": {},
   "outputs": [
    {
     "data": {
      "text/html": [
       "<div>\n",
       "<style scoped>\n",
       "    .dataframe tbody tr th:only-of-type {\n",
       "        vertical-align: middle;\n",
       "    }\n",
       "\n",
       "    .dataframe tbody tr th {\n",
       "        vertical-align: top;\n",
       "    }\n",
       "\n",
       "    .dataframe thead th {\n",
       "        text-align: right;\n",
       "    }\n",
       "</style>\n",
       "<table border=\"1\" class=\"dataframe\">\n",
       "  <thead>\n",
       "    <tr style=\"text-align: right;\">\n",
       "      <th></th>\n",
       "      <th>Resume</th>\n",
       "      <th>Similarity_Score</th>\n",
       "    </tr>\n",
       "  </thead>\n",
       "  <tbody>\n",
       "    <tr>\n",
       "      <th>137</th>\n",
       "      <td>â¢ Operating systems:-Linux- Ubuntu, Windows ...</td>\n",
       "      <td>0.071907</td>\n",
       "    </tr>\n",
       "    <tr>\n",
       "      <th>18</th>\n",
       "      <td>Computer Knowledge: â¢ Proficient in basic us...</td>\n",
       "      <td>0.062869</td>\n",
       "    </tr>\n",
       "    <tr>\n",
       "      <th>53</th>\n",
       "      <td>SKILLS: Computer: â¢ Can easily operate in Op...</td>\n",
       "      <td>0.057645</td>\n",
       "    </tr>\n",
       "    <tr>\n",
       "      <th>56</th>\n",
       "      <td>Education Details   B.E in Civil Engineering C...</td>\n",
       "      <td>0.051394</td>\n",
       "    </tr>\n",
       "    <tr>\n",
       "      <th>149</th>\n",
       "      <td>Technical Skills â¢ Languages: C#, ASP .NET M...</td>\n",
       "      <td>0.034150</td>\n",
       "    </tr>\n",
       "    <tr>\n",
       "      <th>40</th>\n",
       "      <td>Education Details  May 1999 to September 2002 ...</td>\n",
       "      <td>0.030970</td>\n",
       "    </tr>\n",
       "    <tr>\n",
       "      <th>163</th>\n",
       "      <td>PERSONAL SKILLS â¢ Quick learner, â¢ Eagerne...</td>\n",
       "      <td>0.026848</td>\n",
       "    </tr>\n",
       "    <tr>\n",
       "      <th>135</th>\n",
       "      <td>Education Details   Hadoop Developer   Hadoop ...</td>\n",
       "      <td>0.022053</td>\n",
       "    </tr>\n",
       "    <tr>\n",
       "      <th>83</th>\n",
       "      <td>Education Details  July 2008 to February 2012 ...</td>\n",
       "      <td>0.020215</td>\n",
       "    </tr>\n",
       "    <tr>\n",
       "      <th>78</th>\n",
       "      <td>IT Skills: Area Exposure Modeling Tool: Bizagi...</td>\n",
       "      <td>0.015050</td>\n",
       "    </tr>\n",
       "  </tbody>\n",
       "</table>\n",
       "</div>"
      ],
      "text/plain": [
       "                                                Resume  Similarity_Score\n",
       "137  â¢ Operating systems:-Linux- Ubuntu, Windows ...          0.071907\n",
       "18   Computer Knowledge: â¢ Proficient in basic us...          0.062869\n",
       "53   SKILLS: Computer: â¢ Can easily operate in Op...          0.057645\n",
       "56   Education Details   B.E in Civil Engineering C...          0.051394\n",
       "149  Technical Skills â¢ Languages: C#, ASP .NET M...          0.034150\n",
       "40   Education Details  May 1999 to September 2002 ...          0.030970\n",
       "163  PERSONAL SKILLS â¢ Quick learner, â¢ Eagerne...          0.026848\n",
       "135  Education Details   Hadoop Developer   Hadoop ...          0.022053\n",
       "83   Education Details  July 2008 to February 2012 ...          0.020215\n",
       "78   IT Skills: Area Exposure Modeling Tool: Bizagi...          0.015050"
      ]
     },
     "metadata": {},
     "output_type": "display_data"
    },
    {
     "name": "stdout",
     "output_type": "stream",
     "text": [
      "Processing Time: 78.57 seconds\n"
     ]
    }
   ],
   "source": [
    "from IPython.display import display\n",
    "display(ranked_resumes[[\"Resume\", \"Similarity_Score\"]].head(10))\n",
    "end_time = time.time()\n",
    "elapsed_time = end_time - start_time\n",
    "print(f\"Processing Time: {elapsed_time:.2f} seconds\")"
   ]
  },
  {
   "cell_type": "code",
   "execution_count": null,
   "id": "463154d5-8ad1-4df8-8e30-1c6f018176a4",
   "metadata": {},
   "outputs": [],
   "source": []
  },
  {
   "cell_type": "code",
   "execution_count": null,
   "id": "ac3e47cc-cc61-402c-a874-ffccf19459af",
   "metadata": {},
   "outputs": [],
   "source": []
  }
 ],
 "metadata": {
  "kernelspec": {
   "display_name": "Python 3 (ipykernel)",
   "language": "python",
   "name": "python3"
  },
  "language_info": {
   "codemirror_mode": {
    "name": "ipython",
    "version": 3
   },
   "file_extension": ".py",
   "mimetype": "text/x-python",
   "name": "python",
   "nbconvert_exporter": "python",
   "pygments_lexer": "ipython3",
   "version": "3.10.11"
  }
 },
 "nbformat": 4,
 "nbformat_minor": 5
}
