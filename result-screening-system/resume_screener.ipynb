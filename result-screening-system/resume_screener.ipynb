{
 "cells": [
  {
   "cell_type": "markdown",
   "id": "3f813149-be42-40ed-ab86-76893648ce9f",
   "metadata": {},
   "source": [
    "## Install the necessary packages\n",
    "This section loads the requirement file and loads the needed packages\n"
   ]
  },
  {
   "cell_type": "code",
   "execution_count": null,
   "id": "70b47835-1fb8-4833-9656-3a466dc90d84",
   "metadata": {},
   "outputs": [],
   "source": [
    "!pip install -r requirements.txt"
   ]
  },
  {
   "cell_type": "code",
   "execution_count": 4,
   "id": "95dd4200-84f5-423f-9992-96b802004c43",
   "metadata": {},
   "outputs": [
    {
     "name": "stdout",
     "output_type": "stream",
     "text": [
      "Requirement already satisfied: flask in c:\\users\\ayogaius\\appdata\\local\\programs\\python\\python313\\lib\\site-packages (3.1.0)\n",
      "Requirement already satisfied: Werkzeug>=3.1 in c:\\users\\ayogaius\\appdata\\local\\programs\\python\\python313\\lib\\site-packages (from flask) (3.1.3)\n",
      "Requirement already satisfied: Jinja2>=3.1.2 in c:\\users\\ayogaius\\appdata\\local\\programs\\python\\python313\\lib\\site-packages (from flask) (3.1.6)\n",
      "Requirement already satisfied: itsdangerous>=2.2 in c:\\users\\ayogaius\\appdata\\local\\programs\\python\\python313\\lib\\site-packages (from flask) (2.2.0)\n",
      "Requirement already satisfied: click>=8.1.3 in c:\\users\\ayogaius\\appdata\\local\\programs\\python\\python313\\lib\\site-packages (from flask) (8.1.8)\n",
      "Requirement already satisfied: blinker>=1.9 in c:\\users\\ayogaius\\appdata\\local\\programs\\python\\python313\\lib\\site-packages (from flask) (1.9.0)\n",
      "Requirement already satisfied: colorama in c:\\users\\ayogaius\\appdata\\roaming\\python\\python313\\site-packages (from click>=8.1.3->flask) (0.4.6)\n",
      "Requirement already satisfied: MarkupSafe>=2.0 in c:\\users\\ayogaius\\appdata\\local\\programs\\python\\python313\\lib\\site-packages (from Jinja2>=3.1.2->flask) (3.0.2)\n"
     ]
    }
   ],
   "source": [
    "!pip install flask"
   ]
  },
  {
   "cell_type": "markdown",
   "id": "7649ec22-2da6-4b2b-a177-ef11877b70ad",
   "metadata": {},
   "source": [
    "## Data Preprocessing\n",
    "This section loads and cleans the dataset before training."
   ]
  },
  {
   "cell_type": "code",
   "execution_count": 33,
   "id": "940d78da-371c-4feb-bcc1-707b0bcae1cd",
   "metadata": {},
   "outputs": [
    {
     "name": "stdout",
     "output_type": "stream",
     "text": [
      "Sample stopwords: ['we', 'against', 'll', 'and', \"hasn't\"]\n",
      "Lemmatization example: running\n",
      "0    skill programming language python panda numpy ...\n",
      "1    education detail may 2013 may 2017 b e uit rgp...\n",
      "2    area interest deep learning control system des...\n",
      "3    skill r python sap hana tableau sap hana sql s...\n",
      "4    education detail mca ymcaust faridabad haryana...\n",
      "Name: Cleaned_Resume, dtype: object\n",
      "Processing Time: 6.09 seconds\n"
     ]
    },
    {
     "name": "stderr",
     "output_type": "stream",
     "text": [
      "[nltk_data] Downloading package punkt to\n",
      "[nltk_data]     C:\\Users\\Ayogaius\\AppData\\Roaming\\nltk_data...\n",
      "[nltk_data]   Package punkt is already up-to-date!\n",
      "[nltk_data] Downloading package stopwords to\n",
      "[nltk_data]     C:\\Users\\Ayogaius\\AppData\\Roaming\\nltk_data...\n",
      "[nltk_data]   Package stopwords is already up-to-date!\n",
      "[nltk_data] Downloading package wordnet to\n",
      "[nltk_data]     C:\\Users\\Ayogaius\\AppData\\Roaming\\nltk_data...\n",
      "[nltk_data]   Package wordnet is already up-to-date!\n"
     ]
    }
   ],
   "source": [
    "!python src/preprocess.py"
   ]
  },
  {
   "cell_type": "markdown",
   "id": "c1916b3f-fb68-4eda-8b33-51a4afd72f1d",
   "metadata": {},
   "source": [
    "## Model training\n",
    "This section is for training the models and vectorizer. It also checks the accuracy and precision. And finally we can see the time it took to complete running the file"
   ]
  },
  {
   "cell_type": "code",
   "execution_count": 36,
   "id": "65cb88b6-ea4c-4dc0-a4ee-d678bfd34294",
   "metadata": {},
   "outputs": [
    {
     "name": "stdout",
     "output_type": "stream",
     "text": [
      "Accuracy: 0.9948186528497409, Precision: 0.9954663212435233\n",
      " Model Accuracy: 0.99\n",
      "\n",
      " Classification Report:\n",
      "               precision    recall  f1-score   support\n",
      "\n",
      "           0       1.00      1.00      1.00         3\n",
      "           1       1.00      1.00      1.00         6\n",
      "           2       1.00      1.00      1.00         5\n",
      "           3       1.00      1.00      1.00         7\n",
      "           4       1.00      1.00      1.00         4\n",
      "           5       1.00      1.00      1.00         9\n",
      "           6       1.00      1.00      1.00         5\n",
      "           7       1.00      1.00      1.00         8\n",
      "           8       1.00      0.93      0.96        14\n",
      "           9       1.00      1.00      1.00         5\n",
      "          10       1.00      1.00      1.00         7\n",
      "          11       1.00      1.00      1.00         6\n",
      "          12       1.00      1.00      1.00        12\n",
      "          13       1.00      1.00      1.00         4\n",
      "          14       1.00      1.00      1.00         7\n",
      "          15       1.00      1.00      1.00        15\n",
      "          16       1.00      1.00      1.00         8\n",
      "          17       1.00      1.00      1.00         3\n",
      "          18       1.00      1.00      1.00        12\n",
      "          19       0.88      1.00      0.93         7\n",
      "          20       1.00      1.00      1.00        10\n",
      "          21       1.00      1.00      1.00         7\n",
      "          22       1.00      1.00      1.00         8\n",
      "          23       1.00      1.00      1.00        16\n",
      "          24       1.00      1.00      1.00         5\n",
      "\n",
      "    accuracy                           0.99       193\n",
      "   macro avg       0.99      1.00      1.00       193\n",
      "weighted avg       1.00      0.99      0.99       193\n",
      "\n",
      " Model and vectorizer saved successfully!\n",
      "Processing Time: 0.64 seconds\n"
     ]
    }
   ],
   "source": [
    "!python src/train_model.py"
   ]
  },
  {
   "cell_type": "markdown",
   "id": "3234d236-e7f9-414f-8c7b-2d269e86a35f",
   "metadata": {},
   "source": [
    "## Candidates Ranking\n",
    "This part of the code deals with receiving the job description and ranking the candidates from the top ten most qualified for the job to the least qualified."
   ]
  },
  {
   "cell_type": "code",
   "execution_count": 34,
   "id": "399795c2-9262-4f56-a0ec-f7c5503181fe",
   "metadata": {},
   "outputs": [
    {
     "name": "stdout",
     "output_type": "stream",
     "text": [
      "Sample stopwords: [\"you'll\", 'how', 'doing', 'whom', \"that'll\"]\n",
      "Lemmatization example: running\n",
      "0    skill programming language python panda numpy ...\n",
      "1    education detail may 2013 may 2017 b e uit rgp...\n",
      "2    area interest deep learning control system des...\n",
      "3    skill r python sap hana tableau sap hana sql s...\n",
      "4    education detail mca ymcaust faridabad haryana...\n",
      "Name: Cleaned_Resume, dtype: object\n",
      "Processing Time: 5.54 seconds\n",
      "                                               Resume  Similarity_Score\n",
      "29  Expertise Ã¢ÂˆÂ’ Data and Quantitative Analysis Ã¢...          0.497922\n",
      "19  Expertise Ã¢ÂˆÂ’ Data and Quantitative Analysis Ã¢...          0.497922\n",
      "39  Expertise Ã¢ÂˆÂ’ Data and Quantitative Analysis Ã¢...          0.497922\n",
      "9   Expertise Ã¢ÂˆÂ’ Data and Quantitative Analysis Ã¢...          0.497922\n",
      "16  Skills Ã¢Â€Â¢ Python Ã¢Â€Â¢ Tableau Ã¢Â€Â¢ Data Visuali...          0.394161\n",
      "26  Skills Ã¢Â€Â¢ Python Ã¢Â€Â¢ Tableau Ã¢Â€Â¢ Data Visuali...          0.394161\n",
      "6   Skills Ã¢Â€Â¢ Python Ã¢Â€Â¢ Tableau Ã¢Â€Â¢ Data Visuali...          0.394161\n",
      "36  Skills Ã¢Â€Â¢ Python Ã¢Â€Â¢ Tableau Ã¢Â€Â¢ Data Visuali...          0.394161\n",
      "25  SKILLS C Basics, IOT, Python, MATLAB, Data Sci...          0.283778\n",
      "35  SKILLS C Basics, IOT, Python, MATLAB, Data Sci...          0.283778\n",
      "Processing Time: 3.68 seconds\n"
     ]
    },
    {
     "name": "stderr",
     "output_type": "stream",
     "text": [
      "[nltk_data] Downloading package punkt to\n",
      "[nltk_data]     C:\\Users\\Ayogaius\\AppData\\Roaming\\nltk_data...\n",
      "[nltk_data]   Package punkt is already up-to-date!\n",
      "[nltk_data] Downloading package stopwords to\n",
      "[nltk_data]     C:\\Users\\Ayogaius\\AppData\\Roaming\\nltk_data...\n",
      "[nltk_data]   Package stopwords is already up-to-date!\n",
      "[nltk_data] Downloading package wordnet to\n",
      "[nltk_data]     C:\\Users\\Ayogaius\\AppData\\Roaming\\nltk_data...\n",
      "[nltk_data]   Package wordnet is already up-to-date!\n"
     ]
    }
   ],
   "source": [
    "!python src/rank_candidates.py"
   ]
  },
  {
   "cell_type": "markdown",
   "id": "b9ed638e-abb9-45b7-bc85-f22f925f0bd3",
   "metadata": {},
   "source": [
    "## Main\n",
    "This file automates the process from preprocessing to ranking candidates and generate the list of candidates suitable for the job"
   ]
  },
  {
   "cell_type": "code",
   "execution_count": 37,
   "id": "3f3faf57-d538-449d-ab7d-1089b662fbc3",
   "metadata": {},
   "outputs": [
    {
     "name": "stdout",
     "output_type": "stream",
     "text": [
      "Accuracy: 0.9948186528497409, Precision: 0.9954663212435233\n",
      " Model Accuracy: 0.99\n",
      "\n",
      " Classification Report:\n",
      "               precision    recall  f1-score   support\n",
      "\n",
      "           0       1.00      1.00      1.00         3\n",
      "           1       1.00      1.00      1.00         6\n",
      "           2       1.00      1.00      1.00         5\n",
      "           3       1.00      1.00      1.00         7\n",
      "           4       1.00      1.00      1.00         4\n",
      "           5       1.00      1.00      1.00         9\n",
      "           6       1.00      1.00      1.00         5\n",
      "           7       1.00      1.00      1.00         8\n",
      "           8       1.00      0.93      0.96        14\n",
      "           9       1.00      1.00      1.00         5\n",
      "          10       1.00      1.00      1.00         7\n",
      "          11       1.00      1.00      1.00         6\n",
      "          12       1.00      1.00      1.00        12\n",
      "          13       1.00      1.00      1.00         4\n",
      "          14       1.00      1.00      1.00         7\n",
      "          15       1.00      1.00      1.00        15\n",
      "          16       1.00      1.00      1.00         8\n",
      "          17       1.00      1.00      1.00         3\n",
      "          18       1.00      1.00      1.00        12\n",
      "          19       0.88      1.00      0.93         7\n",
      "          20       1.00      1.00      1.00        10\n",
      "          21       1.00      1.00      1.00         7\n",
      "          22       1.00      1.00      1.00         8\n",
      "          23       1.00      1.00      1.00        16\n",
      "          24       1.00      1.00      1.00         5\n",
      "\n",
      "    accuracy                           0.99       193\n",
      "   macro avg       0.99      1.00      1.00       193\n",
      "weighted avg       1.00      0.99      0.99       193\n",
      "\n",
      " Model and vectorizer saved successfully!\n",
      "Processing Time: 1.80 seconds\n",
      "Sample stopwords: ['aren', \"we'd\", 'again', \"don't\", 'against']\n",
      "Lemmatization example: running\n",
      "0    skill programming language python panda numpy ...\n",
      "1    education detail may 2013 may 2017 b e uit rgp...\n",
      "2    area interest deep learning control system des...\n",
      "3    skill r python sap hana tableau sap hana sql s...\n",
      "4    education detail mca ymcaust faridabad haryana...\n",
      "Name: Cleaned_Resume, dtype: object\n",
      "Processing Time: 8.83 seconds\n",
      "                                               Resume  Similarity_Score\n",
      "29  Expertise Ã¢ÂˆÂ’ Data and Quantitative Analysis Ã¢...          0.497922\n",
      "19  Expertise Ã¢ÂˆÂ’ Data and Quantitative Analysis Ã¢...          0.497922\n",
      "39  Expertise Ã¢ÂˆÂ’ Data and Quantitative Analysis Ã¢...          0.497922\n",
      "9   Expertise Ã¢ÂˆÂ’ Data and Quantitative Analysis Ã¢...          0.497922\n",
      "16  Skills Ã¢Â€Â¢ Python Ã¢Â€Â¢ Tableau Ã¢Â€Â¢ Data Visuali...          0.394161\n",
      "26  Skills Ã¢Â€Â¢ Python Ã¢Â€Â¢ Tableau Ã¢Â€Â¢ Data Visuali...          0.394161\n",
      "6   Skills Ã¢Â€Â¢ Python Ã¢Â€Â¢ Tableau Ã¢Â€Â¢ Data Visuali...          0.394161\n",
      "36  Skills Ã¢Â€Â¢ Python Ã¢Â€Â¢ Tableau Ã¢Â€Â¢ Data Visuali...          0.394161\n",
      "25  SKILLS C Basics, IOT, Python, MATLAB, Data Sci...          0.283778\n",
      "35  SKILLS C Basics, IOT, Python, MATLAB, Data Sci...          0.283778\n",
      "Processing Time: 4.57 seconds\n",
      "Training the model...\n",
      "Ranking candidates...\n",
      "Process completed successfully!\n",
      "Processing Time: 50.75 seconds\n"
     ]
    },
    {
     "name": "stderr",
     "output_type": "stream",
     "text": [
      "[nltk_data] Downloading package punkt to\n",
      "[nltk_data]     C:\\Users\\Ayogaius\\AppData\\Roaming\\nltk_data...\n",
      "[nltk_data]   Package punkt is already up-to-date!\n",
      "[nltk_data] Downloading package stopwords to\n",
      "[nltk_data]     C:\\Users\\Ayogaius\\AppData\\Roaming\\nltk_data...\n",
      "[nltk_data]   Package stopwords is already up-to-date!\n",
      "[nltk_data] Downloading package wordnet to\n",
      "[nltk_data]     C:\\Users\\Ayogaius\\AppData\\Roaming\\nltk_data...\n",
      "[nltk_data]   Package wordnet is already up-to-date!\n"
     ]
    }
   ],
   "source": [
    "!python main.py"
   ]
  }
 ],
 "metadata": {
  "kernelspec": {
   "display_name": "Python 3 (ipykernel)",
   "language": "python",
   "name": "python3"
  },
  "language_info": {
   "codemirror_mode": {
    "name": "ipython",
    "version": 3
   },
   "file_extension": ".py",
   "mimetype": "text/x-python",
   "name": "python",
   "nbconvert_exporter": "python",
   "pygments_lexer": "ipython3",
   "version": "3.13.2"
  }
 },
 "nbformat": 4,
 "nbformat_minor": 5
}
